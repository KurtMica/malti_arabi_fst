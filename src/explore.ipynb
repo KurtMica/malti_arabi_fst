{
 "cells": [
  {
   "cell_type": "code",
   "execution_count": 1,
   "metadata": {},
   "outputs": [],
   "source": [
    "import pynini as pn\n",
    "from fst_utils import show_graph, get_paths\n",
    "from malti2arabi import *\n",
    "from text_utils import ar2safebw"
   ]
  },
  {
   "cell_type": "code",
   "execution_count": 9,
   "metadata": {},
   "outputs": [
    {
     "data": {
      "text/plain": [
       "[('ċiebba', 'tcAb~a')]"
      ]
     },
     "execution_count": 9,
     "metadata": {},
     "output_type": "execute_result"
    }
   ],
   "source": [
    "\n",
    "x = translit('ċiebba')\n",
    "x\n",
    "# ar2safebw(x.string())\n",
    "get_paths(x.optimize())"
   ]
  },
  {
   "cell_type": "code",
   "execution_count": null,
   "metadata": {},
   "outputs": [],
   "source": []
  }
 ],
 "metadata": {
  "kernelspec": {
   "display_name": "malti-arabi",
   "language": "python",
   "name": "python3"
  },
  "language_info": {
   "codemirror_mode": {
    "name": "ipython",
    "version": 3
   },
   "file_extension": ".py",
   "mimetype": "text/x-python",
   "name": "python",
   "nbconvert_exporter": "python",
   "pygments_lexer": "ipython3",
   "version": "3.9.15"
  },
  "orig_nbformat": 4,
  "vscode": {
   "interpreter": {
    "hash": "e1fe548ba299fd84ba1a8b4601f35b60e4701f1337b0d19fc81dd6cba4cba426"
   }
  }
 },
 "nbformat": 4,
 "nbformat_minor": 2
}
