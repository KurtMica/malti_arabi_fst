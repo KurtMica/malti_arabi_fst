{
 "cells": [
  {
   "cell_type": "markdown",
   "source": [
    "# Demo\n",
    "\n",
    "This notebook demonstrates how to process a Maltese text to perform transliteration and/or translation"
   ],
   "metadata": {
    "collapsed": false
   }
  },
  {
   "cell_type": "code",
   "execution_count": 1,
   "outputs": [
    {
     "data": {
      "text/plain": "['Il-',\n 'karozza',\n 'Porsche',\n 'tal-',\n '2022',\n 'għandha',\n 'speed',\n 'fenomenali',\n '!']"
     },
     "execution_count": 1,
     "metadata": {},
     "output_type": "execute_result"
    }
   ],
   "source": [
    "import requests\n",
    "\n",
    "text = \"Il-karozza Porsche tal-2022 għandha speed fenomenali!\"\n",
    "\n",
    "tokens = requests.get(\"https://mlrs.research.um.edu.mt/tools/mlrsapi/tokenise\", params={\"text\": text}).json()[\"result\"]\n",
    "tokens"
   ],
   "metadata": {
    "collapsed": false
   }
  },
  {
   "cell_type": "markdown",
   "source": [
    "## Transliteration"
   ],
   "metadata": {
    "collapsed": false
   }
  },
  {
   "cell_type": "code",
   "execution_count": 2,
   "outputs": [
    {
     "name": "stderr",
     "output_type": "stream",
     "text": [
      "None of PyTorch, TensorFlow >= 2.0, or Flax have been found. Models won't be available and only tokenizers, configuration and file/data utilities can be used.\n",
      "Loading the LM will be faster if you build a binary file.\n",
      "Reading /mnt/c/Users/Kurt/Repositories/external/malti_arabi_fst/models/aggregated_country/lm/word/tn-maghreb.arpa\n",
      "----5---10---15---20---25---30---35---40---45---50---55---60---65---70---75---80---85---90---95--100\n",
      "****************************************************************************************************\n",
      "Loading the LM will be faster if you build a binary file.\n",
      "Reading /mnt/c/Users/Kurt/Repositories/external/malti_arabi_fst/models/aggregated_country/lm/char/tn-maghreb.arpa\n",
      "----5---10---15---20---25---30---35---40---45---50---55---60---65---70---75---80---85---90---95--100\n",
      "****************************************************************************************************\n"
     ]
    },
    {
     "data": {
      "text/plain": "['ال', 'كردزة', 'برسكهي', 'تاع ال', '٢٠٢٢', 'عندها', 'صباد', 'فنمنلي', '!']"
     },
     "execution_count": 2,
     "metadata": {},
     "output_type": "execute_result"
    }
   ],
   "source": [
    "from transliterate import transliterate_sequence\n",
    "import token_rankers\n",
    "\n",
    "token_mappings = [\"token_mappings/small_closed_class.map\", \"token_mappings/additional_closed_class.map\"]\n",
    "token_rankers = [\n",
    "    token_rankers.WordModelScoreRanker(\"../models/aggregated_country/lm/word/tn-maghreb.arpa\"),\n",
    "    token_rankers.CharacterModelScoreRanker(\"../models/aggregated_country/lm/char/tn-maghreb.arpa\"),\n",
    "]\n",
    "transliteration = transliterate_sequence(tokens, token_mappings, token_rankers)\n",
    "transliteration"
   ],
   "metadata": {
    "collapsed": false
   }
  },
  {
   "cell_type": "markdown",
   "source": [
    "## Translation"
   ],
   "metadata": {
    "collapsed": false
   }
  },
  {
   "cell_type": "code",
   "execution_count": 3,
   "outputs": [
    {
     "data": {
      "text/plain": "['ال', 'ترام', 'بورشه', 'ل', '2022', 'هو', 'سرعة', 'هائل', '!']"
     },
     "execution_count": 3,
     "metadata": {},
     "output_type": "execute_result"
    }
   ],
   "source": [
    "from translate import translate_token\n",
    "\n",
    "translation_ar = [translate_token(token, \"mt-ar\") for token in tokens]\n",
    "translation_ar"
   ],
   "metadata": {
    "collapsed": false
   }
  },
  {
   "cell_type": "code",
   "execution_count": 4,
   "outputs": [
    {
     "data": {
      "text/plain": "['IL', 'tram', 'Porsche', 'Di', '2022', 'Esso', 'velocità', 'fenomenale', '!']"
     },
     "execution_count": 4,
     "metadata": {},
     "output_type": "execute_result"
    }
   ],
   "source": [
    "translation_it = [translate_token(token, \"mt-it\") for token in tokens]\n",
    "translation_it"
   ],
   "metadata": {
    "collapsed": false
   }
  },
  {
   "cell_type": "code",
   "execution_count": 5,
   "outputs": [
    {
     "data": {
      "text/plain": "['The', 'streetcar', 'Porsche', 'of', '2022', 'it', 'speed', 'phenomenal', '!']"
     },
     "execution_count": 5,
     "metadata": {},
     "output_type": "execute_result"
    }
   ],
   "source": [
    "translation_en = [translate_token(token, \"mt-en\") for token in tokens]\n",
    "translation_en"
   ],
   "metadata": {
    "collapsed": false
   }
  },
  {
   "cell_type": "markdown",
   "source": [
    "## Conditional Transliteration/Translation"
   ],
   "metadata": {
    "collapsed": false
   }
  },
  {
   "cell_type": "code",
   "execution_count": 6,
   "outputs": [
    {
     "name": "stderr",
     "output_type": "stream",
     "text": [
      "Loading the LM will be faster if you build a binary file.\n",
      "Reading /mnt/c/Users/Kurt/Repositories/external/malti_arabi_fst/models/aggregated_country/lm/word/tn-maghreb.arpa\n",
      "----5---10---15---20---25---30---35---40---45---50---55---60---65---70---75---80---85---90---95--100\n",
      "****************************************************************************************************\n",
      "Loading the LM will be faster if you build a binary file.\n",
      "Reading /mnt/c/Users/Kurt/Repositories/external/malti_arabi_fst/models/aggregated_country/lm/char/tn-maghreb.arpa\n",
      "----5---10---15---20---25---30---35---40---45---50---55---60---65---70---75---80---85---90---95--100\n",
      "****************************************************************************************************\n"
     ]
    },
    {
     "data": {
      "text/plain": "['Arabic',\n 'Non-Arabic',\n 'Name',\n 'Arabic',\n 'Symbol',\n 'Arabic',\n 'Code-Switching',\n 'Non-Arabic',\n 'Symbol']"
     },
     "execution_count": 6,
     "metadata": {},
     "output_type": "execute_result"
    }
   ],
   "source": [
    "import pickle\n",
    "from etymology_classification import featurise\n",
    "\n",
    "with open(\"etymology_data/model.pickle\", \"rb\") as file:\n",
    "    model = pickle.load(file)\n",
    "\n",
    "labels = model.predict([featurise(tokens)])[0]\n",
    "labels.tolist()"
   ],
   "metadata": {
    "collapsed": false
   }
  },
  {
   "cell_type": "code",
   "execution_count": 7,
   "outputs": [
    {
     "data": {
      "text/plain": "['ال',\n 'karozza',\n 'Porsche',\n 'تاع ال',\n '2022',\n 'عندها',\n 'speed',\n 'fenomenali',\n '!']"
     },
     "execution_count": 7,
     "metadata": {},
     "output_type": "execute_result"
    }
   ],
   "source": [
    "transliteration_pass = []\n",
    "for i, label in enumerate(labels):\n",
    "    if label in (\"Arabic\",):\n",
    "        transliteration_pass.append(transliteration[i])\n",
    "    else:\n",
    "        transliteration_pass.append(tokens[i])\n",
    "transliteration_pass"
   ],
   "metadata": {
    "collapsed": false
   }
  },
  {
   "cell_type": "code",
   "execution_count": 8,
   "outputs": [
    {
     "data": {
      "text/plain": "['ال', 'ترام', 'بورشه', 'تاع ال', '٢٠٢٢', 'عندها', 'سرعة', 'هائل', '!']"
     },
     "execution_count": 8,
     "metadata": {},
     "output_type": "execute_result"
    }
   ],
   "source": [
    "transliteration_translation_ar = []\n",
    "for i, label in enumerate(labels):\n",
    "    if label in (\"Arabic\", \"Symbol\",):\n",
    "        transliteration_translation_ar.append(transliteration[i])\n",
    "    else:\n",
    "        transliteration_translation_ar.append(translation_ar[i])\n",
    "transliteration_translation_ar"
   ],
   "metadata": {
    "collapsed": false
   }
  },
  {
   "cell_type": "code",
   "execution_count": 9,
   "outputs": [
    {
     "data": {
      "text/plain": "['ال',\n 'tram',\n 'Porsche',\n 'تاع ال',\n '2022',\n 'عندها',\n 'speed',\n 'fenomenale',\n '!']"
     },
     "execution_count": 9,
     "metadata": {},
     "output_type": "execute_result"
    }
   ],
   "source": [
    "transliteration_translation_it = []\n",
    "for i, label in enumerate(labels):\n",
    "    if label in (\"Arabic\",):\n",
    "        transliteration_translation_it.append(transliteration[i])\n",
    "    elif label not in (\"Code-Switching\",):\n",
    "        transliteration_translation_it.append(translation_it[i])\n",
    "    else:\n",
    "        transliteration_translation_it.append(tokens[i])\n",
    "transliteration_translation_it"
   ],
   "metadata": {
    "collapsed": false
   }
  },
  {
   "cell_type": "code",
   "execution_count": 10,
   "outputs": [
    {
     "data": {
      "text/plain": "['ال',\n 'streetcar',\n 'Porsche',\n 'تاع ال',\n '2022',\n 'عندها',\n 'speed',\n 'phenomenal',\n '!']"
     },
     "execution_count": 10,
     "metadata": {},
     "output_type": "execute_result"
    }
   ],
   "source": [
    "transliteration_translation_en = []\n",
    "for i, label in enumerate(labels):\n",
    "    if label in (\"Arabic\",):\n",
    "        transliteration_translation_en.append(transliteration[i])\n",
    "    elif label not in (\"Code-Switching\",):\n",
    "        transliteration_translation_en.append(translation_en[i])\n",
    "    else:\n",
    "        transliteration_translation_en.append(tokens[i])\n",
    "transliteration_translation_en"
   ],
   "metadata": {
    "collapsed": false
   }
  },
  {
   "cell_type": "markdown",
   "source": [
    "## Comparison"
   ],
   "metadata": {
    "collapsed": false
   }
  },
  {
   "cell_type": "code",
   "execution_count": 11,
   "outputs": [
    {
     "data": {
      "text/plain": "       tokens          labels transliteration translation_ar translation_it  \\\n0         Il-          Arabic              ال             ال             IL   \n1     karozza      Non-Arabic           كردزة           ترام           tram   \n2     Porsche            Name          برسكهي          بورشه        Porsche   \n3        tal-          Arabic          تاع ال              ل             Di   \n4        2022          Symbol            ٢٠٢٢           2022           2022   \n5     għandha          Arabic           عندها             هو           Esso   \n6       speed  Code-Switching            صباد           سرعة       velocità   \n7  fenomenali      Non-Arabic          فنمنلي           هائل     fenomenale   \n8           !          Symbol               !              !              !   \n\n  translation_en transliteration+pass transliteration+translation_ar  \\\n0            The                   ال                             ال   \n1      streetcar              karozza                           ترام   \n2        Porsche              Porsche                          بورشه   \n3             of               تاع ال                         تاع ال   \n4           2022                 2022                           ٢٠٢٢   \n5             it                عندها                          عندها   \n6          speed                speed                           سرعة   \n7     phenomenal           fenomenali                           هائل   \n8              !                    !                              !   \n\n  transliteration+translation_it transliteration+translation_en  \n0                             ال                             ال  \n1                           tram                      streetcar  \n2                        Porsche                        Porsche  \n3                         تاع ال                         تاع ال  \n4                           2022                           2022  \n5                          عندها                          عندها  \n6                          speed                          speed  \n7                     fenomenale                     phenomenal  \n8                              !                              !  ",
      "text/html": "<div>\n<style scoped>\n    .dataframe tbody tr th:only-of-type {\n        vertical-align: middle;\n    }\n\n    .dataframe tbody tr th {\n        vertical-align: top;\n    }\n\n    .dataframe thead th {\n        text-align: right;\n    }\n</style>\n<table border=\"1\" class=\"dataframe\">\n  <thead>\n    <tr style=\"text-align: right;\">\n      <th></th>\n      <th>tokens</th>\n      <th>labels</th>\n      <th>transliteration</th>\n      <th>translation_ar</th>\n      <th>translation_it</th>\n      <th>translation_en</th>\n      <th>transliteration+pass</th>\n      <th>transliteration+translation_ar</th>\n      <th>transliteration+translation_it</th>\n      <th>transliteration+translation_en</th>\n    </tr>\n  </thead>\n  <tbody>\n    <tr>\n      <th>0</th>\n      <td>Il-</td>\n      <td>Arabic</td>\n      <td>ال</td>\n      <td>ال</td>\n      <td>IL</td>\n      <td>The</td>\n      <td>ال</td>\n      <td>ال</td>\n      <td>ال</td>\n      <td>ال</td>\n    </tr>\n    <tr>\n      <th>1</th>\n      <td>karozza</td>\n      <td>Non-Arabic</td>\n      <td>كردزة</td>\n      <td>ترام</td>\n      <td>tram</td>\n      <td>streetcar</td>\n      <td>karozza</td>\n      <td>ترام</td>\n      <td>tram</td>\n      <td>streetcar</td>\n    </tr>\n    <tr>\n      <th>2</th>\n      <td>Porsche</td>\n      <td>Name</td>\n      <td>برسكهي</td>\n      <td>بورشه</td>\n      <td>Porsche</td>\n      <td>Porsche</td>\n      <td>Porsche</td>\n      <td>بورشه</td>\n      <td>Porsche</td>\n      <td>Porsche</td>\n    </tr>\n    <tr>\n      <th>3</th>\n      <td>tal-</td>\n      <td>Arabic</td>\n      <td>تاع ال</td>\n      <td>ل</td>\n      <td>Di</td>\n      <td>of</td>\n      <td>تاع ال</td>\n      <td>تاع ال</td>\n      <td>تاع ال</td>\n      <td>تاع ال</td>\n    </tr>\n    <tr>\n      <th>4</th>\n      <td>2022</td>\n      <td>Symbol</td>\n      <td>٢٠٢٢</td>\n      <td>2022</td>\n      <td>2022</td>\n      <td>2022</td>\n      <td>2022</td>\n      <td>٢٠٢٢</td>\n      <td>2022</td>\n      <td>2022</td>\n    </tr>\n    <tr>\n      <th>5</th>\n      <td>għandha</td>\n      <td>Arabic</td>\n      <td>عندها</td>\n      <td>هو</td>\n      <td>Esso</td>\n      <td>it</td>\n      <td>عندها</td>\n      <td>عندها</td>\n      <td>عندها</td>\n      <td>عندها</td>\n    </tr>\n    <tr>\n      <th>6</th>\n      <td>speed</td>\n      <td>Code-Switching</td>\n      <td>صباد</td>\n      <td>سرعة</td>\n      <td>velocità</td>\n      <td>speed</td>\n      <td>speed</td>\n      <td>سرعة</td>\n      <td>speed</td>\n      <td>speed</td>\n    </tr>\n    <tr>\n      <th>7</th>\n      <td>fenomenali</td>\n      <td>Non-Arabic</td>\n      <td>فنمنلي</td>\n      <td>هائل</td>\n      <td>fenomenale</td>\n      <td>phenomenal</td>\n      <td>fenomenali</td>\n      <td>هائل</td>\n      <td>fenomenale</td>\n      <td>phenomenal</td>\n    </tr>\n    <tr>\n      <th>8</th>\n      <td>!</td>\n      <td>Symbol</td>\n      <td>!</td>\n      <td>!</td>\n      <td>!</td>\n      <td>!</td>\n      <td>!</td>\n      <td>!</td>\n      <td>!</td>\n      <td>!</td>\n    </tr>\n  </tbody>\n</table>\n</div>"
     },
     "execution_count": 11,
     "metadata": {},
     "output_type": "execute_result"
    }
   ],
   "source": [
    "import pandas as pd\n",
    "\n",
    "pd.DataFrame({\n",
    "    \"tokens\": tokens,\n",
    "    \"labels\": labels,\n",
    "    \"transliteration\": transliteration,\n",
    "    \"translation_ar\": translation_ar,\n",
    "    \"translation_it\": translation_it,\n",
    "    \"translation_en\": translation_en,\n",
    "    \"transliteration+pass\": transliteration_pass,\n",
    "    \"transliteration+translation_ar\": transliteration_translation_ar,\n",
    "    \"transliteration+translation_it\": transliteration_translation_it,\n",
    "    \"transliteration+translation_en\": transliteration_translation_en,\n",
    "})"
   ],
   "metadata": {
    "collapsed": false
   }
  }
 ],
 "metadata": {
  "kernelspec": {
   "display_name": "Python 3",
   "language": "python",
   "name": "python3"
  },
  "language_info": {
   "codemirror_mode": {
    "name": "ipython",
    "version": 2
   },
   "file_extension": ".py",
   "mimetype": "text/x-python",
   "name": "python",
   "nbconvert_exporter": "python",
   "pygments_lexer": "ipython2",
   "version": "2.7.6"
  }
 },
 "nbformat": 4,
 "nbformat_minor": 0
}
