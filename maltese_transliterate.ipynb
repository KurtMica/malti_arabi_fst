{
 "cells": [
  {
   "cell_type": "code",
   "execution_count": 65,
   "metadata": {},
   "outputs": [],
   "source": [
    "import pandas as pd\n",
    "from camel_tools.utils.charmap import CharMapper\n",
    "from camel_tools.utils.transliterate import Transliterator\n",
    "import pynini as pn\n",
    "from camel_tools.utils.charsets import SAFEBW_CHARSET\n",
    "import re"
   ]
  },
  {
   "cell_type": "markdown",
   "metadata": {},
   "source": [
    "### Convert between Arabic Script and Safebuckwalter"
   ]
  },
  {
   "cell_type": "code",
   "execution_count": 2,
   "metadata": {},
   "outputs": [],
   "source": [
    "# Instantiate the builtin bw2ar (Buckwalter to Arabic) CharMapper\n",
    "ar2safebw = CharMapper.builtin_mapper('ar2safebw')\n",
    "safebw2ar = CharMapper.builtin_mapper('safebw2ar')\n",
    "\n",
    "# Instantiate Transliterator with the bw2ar CharMapper with '@@IGNORE@@' marker (default)\n",
    "ar2safebw_translit = Transliterator(ar2safebw)\n",
    "def ar2safebw(ar):   \n",
    "    # Generate Arabic transliteration from BW\n",
    "    sentence_safebw = ar2safebw_translit.transliterate(ar, strip_markers=True)\n",
    "\n",
    "    return ar2safebw_translit.transliterate(ar) #strip_markers=False\n",
    "\n",
    "safebw2ar_translit = Transliterator(safebw2ar)\n",
    "def safebw2ar(safebw):   \n",
    "    # Generate Arabic transliteration from BW\n",
    "    sentence_ar = safebw2ar_translit.transliterate(safebw, strip_markers=True)\n",
    "\n",
    "    return safebw2ar_translit.transliterate(safebw) #strip_markers=False"
   ]
  },
  {
   "cell_type": "markdown",
   "metadata": {},
   "source": [
    "### Load Malti to Arabic map file (and generate symbol tables)"
   ]
  },
  {
   "cell_type": "code",
   "execution_count": 69,
   "metadata": {},
   "outputs": [
    {
     "name": "stderr",
     "output_type": "stream",
     "text": [
      "WARNING: CompatSymbols: Symbol table checksums do not match. Table sizes are 40 and 42\n"
     ]
    }
   ],
   "source": [
    "def dict2symboltable(dictfile):\n",
    "    lefttable = pn.SymbolTable()\n",
    "    lefttable.add_symbol(\"<eps>\", 0)\n",
    "    righttable = pn.SymbolTable()\n",
    "    righttable.add_symbol(\"<eps>\", 0)\n",
    "    \n",
    "    with open(dictfile,'r') as d:\n",
    "        for line in d.readlines():\n",
    "            for idx, tuple in enumerate(line.strip().split('\\t')):\n",
    "                if idx==0:\n",
    "                    for char in tuple.split():\n",
    "                        lefttable.add_symbol(char)\n",
    "                elif idx==1:\n",
    "                    for char in tuple.split():\n",
    "                        righttable.add_symbol(char)\n",
    "    \n",
    "    return lefttable,righttable\n",
    "                    \n",
    "malti_ortho, arabi_ortho = dict2symboltable('malti2arabi.dict')\n",
    "\n",
    "malti2arabi = pn.string_file(\"malti2arabi.dict\", input_token_type=malti_ortho,output_token_type=arabi_ortho).optimize()"
   ]
  },
  {
   "cell_type": "markdown",
   "metadata": {},
   "source": [
    "### generate fst based on input string (), and get all possible output paths"
   ]
  },
  {
   "cell_type": "code",
   "execution_count": 81,
   "metadata": {},
   "outputs": [
    {
     "name": "stdout",
     "output_type": "stream",
     "text": [
      "TARGET NOT IN PATHS\n"
     ]
    },
    {
     "data": {
      "text/plain": [
       "[('d e j j e m', 'd A y A m', <tropical Weight 0 at 0x7ffc5c37d810>),\n",
       " ('d e j j e m', 'd A y i m', <tropical Weight 0 at 0x7ffc5c37dbb0>),\n",
       " ('d e j j e m', 'd A y a m', <tropical Weight 0 at 0x7ffc5c37d950>),\n",
       " ('d e j j e m', 'd i y A m', <tropical Weight 0 at 0x7ffc5c37d750>),\n",
       " ('d e j j e m', 'd i y i m', <tropical Weight 0 at 0x7ffc5c37db90>),\n",
       " ('d e j j e m', 'd i y a m', <tropical Weight 0 at 0x7ffc5c37dc70>),\n",
       " ('d e j j e m', 'd a y A m', <tropical Weight 0 at 0x7ffc5c37dc90>),\n",
       " ('d e j j e m', 'd a y i m', <tropical Weight 0 at 0x7ffc5c37d830>),\n",
       " ('d e j j e m', 'd a y a m', <tropical Weight 0 at 0x7ffc5c37d7d0>)]"
      ]
     },
     "execution_count": 81,
     "metadata": {},
     "output_type": "execute_result"
    }
   ],
   "source": [
    "def space_separate(string):\n",
    "    return re.sub(r'(.)',r'\\1 ',string).strip()\n",
    "\n",
    "def create_fst(string,direction='malti2arabi'):\n",
    "    string = space_separate(string)\n",
    "    if direction == 'malti2arabi':\n",
    "        return ((pn.accep(string,token_type=malti_ortho) ) @ malti2arabi.closure()).optimize().set_input_symbols(malti_ortho).set_output_symbols(arabi_ortho)\n",
    "    elif direction == 'arabi2malti':\n",
    "        return ((pn.accep(string,token_type=arabi_ortho) ) @ malti2arabi.invert().closure()).optimize().set_input_symbols(arabi_ortho).set_output_symbols(malti_ortho)\n",
    "\n",
    "def get_paths(fst,target=None):\n",
    "    path_items = list(fst.paths(input_token_type=malti_ortho,output_token_type=arabi_ortho).items())\n",
    "    if target:\n",
    "        if not list(filter(lambda x: x[1].replace(' ','')==target,path_items)):\n",
    "            print('target not in paths'.upper())\n",
    "    return path_items\n",
    "\n",
    "\n",
    "create_fst('katab',direction='arabi2malti')\n",
    "create_fst('katab',direction='malti2arabi')\n",
    "# get_paths(fst = create_fst('katab'),target ='katab')\n"
   ]
  },
  {
   "cell_type": "code",
   "execution_count": 82,
   "metadata": {},
   "outputs": [
    {
     "name": "stdout",
     "output_type": "stream",
     "text": [
      "TARGET NOT IN PATHS\n"
     ]
    },
    {
     "data": {
      "text/plain": [
       "[('d e j j e m', 'd A y A m', <tropical Weight 0 at 0x7ffc5c37dbf0>),\n",
       " ('d e j j e m', 'd A y i m', <tropical Weight 0 at 0x7ffc5c37d990>),\n",
       " ('d e j j e m', 'd A y a m', <tropical Weight 0 at 0x7ffc5c37d890>),\n",
       " ('d e j j e m', 'd i y A m', <tropical Weight 0 at 0x7ffc5c37db70>),\n",
       " ('d e j j e m', 'd i y i m', <tropical Weight 0 at 0x7ffc5c37d970>),\n",
       " ('d e j j e m', 'd i y a m', <tropical Weight 0 at 0x7ffc5c37d8b0>),\n",
       " ('d e j j e m', 'd a y A m', <tropical Weight 0 at 0x7ffc5c37d8d0>),\n",
       " ('d e j j e m', 'd a y i m', <tropical Weight 0 at 0x7ffc5c37daf0>),\n",
       " ('d e j j e m', 'd a y a m', <tropical Weight 0 at 0x7ffc5c37db10>)]"
      ]
     },
     "execution_count": 82,
     "metadata": {},
     "output_type": "execute_result"
    }
   ],
   "source": [
    "get_paths(fst = create_fst('dejjem'),target ='dAyimuuu')"
   ]
  },
  {
   "cell_type": "code",
   "execution_count": null,
   "metadata": {},
   "outputs": [],
   "source": []
  }
 ],
 "metadata": {
  "kernelspec": {
   "display_name": "Python 3.9.12 ('madarlex')",
   "language": "python",
   "name": "python3"
  },
  "language_info": {
   "codemirror_mode": {
    "name": "ipython",
    "version": 3
   },
   "file_extension": ".py",
   "mimetype": "text/x-python",
   "name": "python",
   "nbconvert_exporter": "python",
   "pygments_lexer": "ipython3",
   "version": "3.9.12"
  },
  "orig_nbformat": 4,
  "vscode": {
   "interpreter": {
    "hash": "0b4f228c72bd3e4c8bbf3e357cb8eb13f69b95438ea87309587390c66951b4e4"
   }
  }
 },
 "nbformat": 4,
 "nbformat_minor": 2
}
